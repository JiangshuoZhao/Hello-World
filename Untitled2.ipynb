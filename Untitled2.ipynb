{
  "nbformat": 4,
  "nbformat_minor": 0,
  "metadata": {
    "colab": {
      "name": "Untitled2.ipynb",
      "provenance": [],
      "authorship_tag": "ABX9TyOVwr5JvdOcORIMZGJHasuW",
      "include_colab_link": true
    },
    "kernelspec": {
      "name": "python3",
      "display_name": "Python 3"
    },
    "language_info": {
      "name": "python"
    }
  },
  "cells": [
    {
      "cell_type": "markdown",
      "metadata": {
        "id": "view-in-github",
        "colab_type": "text"
      },
      "source": [
        "<a href=\"https://colab.research.google.com/github/miaolegemi233/Hello-World/blob/master/Untitled2.ipynb\" target=\"_parent\"><img src=\"https://colab.research.google.com/assets/colab-badge.svg\" alt=\"Open In Colab\"/></a>"
      ]
    },
    {
      "cell_type": "code",
      "metadata": {
        "id": "C6qIEEZBJLqs"
      },
      "source": [
        "!pip install llvmlite>=0.34.0"
      ],
      "execution_count": 2,
      "outputs": []
    },
    {
      "cell_type": "code",
      "metadata": {
        "colab": {
          "base_uri": "https://localhost:8080/"
        },
        "id": "Nws22K42MjN8",
        "outputId": "8f7d9461-aea9-4350-c366-c4a34202816c"
      },
      "source": [
        "!pip install https://github.com/lmcinnes/umap/archive//refs/tags/0.5.1.zip"
      ],
      "execution_count": 3,
      "outputs": [
        {
          "output_type": "stream",
          "text": [
            "Collecting https://github.com/lmcinnes/umap/archive//refs/tags/0.5.1.zip\n",
            "\u001b[?25l  Downloading https://github.com/lmcinnes/umap/archive//refs/tags/0.5.1.zip\n",
            "\u001b[K     | 43.3MB 7.2MB/s\n",
            "\u001b[?25hRequirement already satisfied: numpy>=1.17 in /usr/local/lib/python3.7/dist-packages (from umap-learn==0.5.1) (1.19.5)\n",
            "Requirement already satisfied: scikit-learn>=0.22 in /usr/local/lib/python3.7/dist-packages (from umap-learn==0.5.1) (0.22.2.post1)\n",
            "Requirement already satisfied: scipy>=1.0 in /usr/local/lib/python3.7/dist-packages (from umap-learn==0.5.1) (1.4.1)\n",
            "Requirement already satisfied: numba>=0.49 in /usr/local/lib/python3.7/dist-packages (from umap-learn==0.5.1) (0.51.2)\n",
            "Requirement already satisfied: pynndescent>=0.5 in /usr/local/lib/python3.7/dist-packages (from umap-learn==0.5.1) (0.5.2)\n",
            "Requirement already satisfied: joblib>=0.11 in /usr/local/lib/python3.7/dist-packages (from scikit-learn>=0.22->umap-learn==0.5.1) (1.0.1)\n",
            "Requirement already satisfied: llvmlite<0.35,>=0.34.0.dev0 in /usr/local/lib/python3.7/dist-packages (from numba>=0.49->umap-learn==0.5.1) (0.34.0)\n",
            "Requirement already satisfied: setuptools in /usr/local/lib/python3.7/dist-packages (from numba>=0.49->umap-learn==0.5.1) (56.0.0)\n",
            "Building wheels for collected packages: umap-learn\n",
            "  Building wheel for umap-learn (setup.py) ... \u001b[?25l\u001b[?25hdone\n",
            "  Created wheel for umap-learn: filename=umap_learn-0.5.1-cp37-none-any.whl size=77557 sha256=866c2f7a0732ad931fee579844e1d10c55b83a5a2040cb9b947f8ffa5ee85241\n",
            "  Stored in directory: /tmp/pip-ephem-wheel-cache-0fzfwnzh/wheels/57/71/1c/a8bbce193b5351f2b4a51bd157f7f1c616054a7d88b6b80802\n",
            "Successfully built umap-learn\n",
            "Installing collected packages: umap-learn\n",
            "  Found existing installation: umap-learn 0.5.0rc1\n",
            "    Uninstalling umap-learn-0.5.0rc1:\n",
            "      Successfully uninstalled umap-learn-0.5.0rc1\n",
            "Successfully installed umap-learn-0.5.1\n"
          ],
          "name": "stdout"
        }
      ]
    },
    {
      "cell_type": "markdown",
      "metadata": {
        "id": "FKwebJwzbNAr"
      },
      "source": [
        ""
      ]
    },
    {
      "cell_type": "code",
      "metadata": {
        "colab": {
          "base_uri": "https://localhost:8080/"
        },
        "id": "BRkchGHfJZDH",
        "outputId": "80d06cd7-0ce0-4fb9-e1e0-d92689151460"
      },
      "source": [
        "!pip install pynndescent"
      ],
      "execution_count": 3,
      "outputs": [
        {
          "output_type": "stream",
          "text": [
            "Collecting pynndescent\n",
            "\u001b[?25l  Downloading https://files.pythonhosted.org/packages/af/65/8189298dd3a05bbad716ee8e249764ff8800e365d8dc652ad2192ca01b4a/pynndescent-0.5.2.tar.gz (1.1MB)\n",
            "\r\u001b[K     |▎                               | 10kB 21.7MB/s eta 0:00:01\r\u001b[K     |▋                               | 20kB 29.1MB/s eta 0:00:01\r\u001b[K     |▉                               | 30kB 22.0MB/s eta 0:00:01\r\u001b[K     |█▏                              | 40kB 25.5MB/s eta 0:00:01\r\u001b[K     |█▍                              | 51kB 25.2MB/s eta 0:00:01\r\u001b[K     |█▊                              | 61kB 27.9MB/s eta 0:00:01\r\u001b[K     |██                              | 71kB 18.7MB/s eta 0:00:01\r\u001b[K     |██▎                             | 81kB 20.0MB/s eta 0:00:01\r\u001b[K     |██▋                             | 92kB 18.6MB/s eta 0:00:01\r\u001b[K     |██▉                             | 102kB 18.7MB/s eta 0:00:01\r\u001b[K     |███▏                            | 112kB 18.7MB/s eta 0:00:01\r\u001b[K     |███▍                            | 122kB 18.7MB/s eta 0:00:01\r\u001b[K     |███▊                            | 133kB 18.7MB/s eta 0:00:01\r\u001b[K     |████                            | 143kB 18.7MB/s eta 0:00:01\r\u001b[K     |████▎                           | 153kB 18.7MB/s eta 0:00:01\r\u001b[K     |████▋                           | 163kB 18.7MB/s eta 0:00:01\r\u001b[K     |████▉                           | 174kB 18.7MB/s eta 0:00:01\r\u001b[K     |█████▏                          | 184kB 18.7MB/s eta 0:00:01\r\u001b[K     |█████▍                          | 194kB 18.7MB/s eta 0:00:01\r\u001b[K     |█████▊                          | 204kB 18.7MB/s eta 0:00:01\r\u001b[K     |██████                          | 215kB 18.7MB/s eta 0:00:01\r\u001b[K     |██████▎                         | 225kB 18.7MB/s eta 0:00:01\r\u001b[K     |██████▋                         | 235kB 18.7MB/s eta 0:00:01\r\u001b[K     |██████▉                         | 245kB 18.7MB/s eta 0:00:01\r\u001b[K     |███████▏                        | 256kB 18.7MB/s eta 0:00:01\r\u001b[K     |███████▍                        | 266kB 18.7MB/s eta 0:00:01\r\u001b[K     |███████▊                        | 276kB 18.7MB/s eta 0:00:01\r\u001b[K     |████████                        | 286kB 18.7MB/s eta 0:00:01\r\u001b[K     |████████▎                       | 296kB 18.7MB/s eta 0:00:01\r\u001b[K     |████████▋                       | 307kB 18.7MB/s eta 0:00:01\r\u001b[K     |████████▉                       | 317kB 18.7MB/s eta 0:00:01\r\u001b[K     |█████████▏                      | 327kB 18.7MB/s eta 0:00:01\r\u001b[K     |█████████▍                      | 337kB 18.7MB/s eta 0:00:01\r\u001b[K     |█████████▊                      | 348kB 18.7MB/s eta 0:00:01\r\u001b[K     |██████████                      | 358kB 18.7MB/s eta 0:00:01\r\u001b[K     |██████████▎                     | 368kB 18.7MB/s eta 0:00:01\r\u001b[K     |██████████▋                     | 378kB 18.7MB/s eta 0:00:01\r\u001b[K     |██████████▉                     | 389kB 18.7MB/s eta 0:00:01\r\u001b[K     |███████████▏                    | 399kB 18.7MB/s eta 0:00:01\r\u001b[K     |███████████▍                    | 409kB 18.7MB/s eta 0:00:01\r\u001b[K     |███████████▊                    | 419kB 18.7MB/s eta 0:00:01\r\u001b[K     |████████████                    | 430kB 18.7MB/s eta 0:00:01\r\u001b[K     |████████████▎                   | 440kB 18.7MB/s eta 0:00:01\r\u001b[K     |████████████▋                   | 450kB 18.7MB/s eta 0:00:01\r\u001b[K     |████████████▉                   | 460kB 18.7MB/s eta 0:00:01\r\u001b[K     |█████████████▏                  | 471kB 18.7MB/s eta 0:00:01\r\u001b[K     |█████████████▍                  | 481kB 18.7MB/s eta 0:00:01\r\u001b[K     |█████████████▊                  | 491kB 18.7MB/s eta 0:00:01\r\u001b[K     |██████████████                  | 501kB 18.7MB/s eta 0:00:01\r\u001b[K     |██████████████▎                 | 512kB 18.7MB/s eta 0:00:01\r\u001b[K     |██████████████▌                 | 522kB 18.7MB/s eta 0:00:01\r\u001b[K     |██████████████▉                 | 532kB 18.7MB/s eta 0:00:01\r\u001b[K     |███████████████▏                | 542kB 18.7MB/s eta 0:00:01\r\u001b[K     |███████████████▍                | 552kB 18.7MB/s eta 0:00:01\r\u001b[K     |███████████████▊                | 563kB 18.7MB/s eta 0:00:01\r\u001b[K     |████████████████                | 573kB 18.7MB/s eta 0:00:01\r\u001b[K     |████████████████▎               | 583kB 18.7MB/s eta 0:00:01\r\u001b[K     |████████████████▌               | 593kB 18.7MB/s eta 0:00:01\r\u001b[K     |████████████████▉               | 604kB 18.7MB/s eta 0:00:01\r\u001b[K     |█████████████████▏              | 614kB 18.7MB/s eta 0:00:01\r\u001b[K     |█████████████████▍              | 624kB 18.7MB/s eta 0:00:01\r\u001b[K     |█████████████████▊              | 634kB 18.7MB/s eta 0:00:01\r\u001b[K     |██████████████████              | 645kB 18.7MB/s eta 0:00:01\r\u001b[K     |██████████████████▎             | 655kB 18.7MB/s eta 0:00:01\r\u001b[K     |██████████████████▌             | 665kB 18.7MB/s eta 0:00:01\r\u001b[K     |██████████████████▉             | 675kB 18.7MB/s eta 0:00:01\r\u001b[K     |███████████████████▏            | 686kB 18.7MB/s eta 0:00:01\r\u001b[K     |███████████████████▍            | 696kB 18.7MB/s eta 0:00:01\r\u001b[K     |███████████████████▊            | 706kB 18.7MB/s eta 0:00:01\r\u001b[K     |████████████████████            | 716kB 18.7MB/s eta 0:00:01\r\u001b[K     |████████████████████▎           | 727kB 18.7MB/s eta 0:00:01\r\u001b[K     |████████████████████▌           | 737kB 18.7MB/s eta 0:00:01\r\u001b[K     |████████████████████▉           | 747kB 18.7MB/s eta 0:00:01\r\u001b[K     |█████████████████████▏          | 757kB 18.7MB/s eta 0:00:01\r\u001b[K     |█████████████████████▍          | 768kB 18.7MB/s eta 0:00:01\r\u001b[K     |█████████████████████▊          | 778kB 18.7MB/s eta 0:00:01\r\u001b[K     |██████████████████████          | 788kB 18.7MB/s eta 0:00:01\r\u001b[K     |██████████████████████▎         | 798kB 18.7MB/s eta 0:00:01\r\u001b[K     |██████████████████████▌         | 808kB 18.7MB/s eta 0:00:01\r\u001b[K     |██████████████████████▉         | 819kB 18.7MB/s eta 0:00:01\r\u001b[K     |███████████████████████▏        | 829kB 18.7MB/s eta 0:00:01\r\u001b[K     |███████████████████████▍        | 839kB 18.7MB/s eta 0:00:01\r\u001b[K     |███████████████████████▊        | 849kB 18.7MB/s eta 0:00:01\r\u001b[K     |████████████████████████        | 860kB 18.7MB/s eta 0:00:01\r\u001b[K     |████████████████████████▎       | 870kB 18.7MB/s eta 0:00:01\r\u001b[K     |████████████████████████▌       | 880kB 18.7MB/s eta 0:00:01\r\u001b[K     |████████████████████████▉       | 890kB 18.7MB/s eta 0:00:01\r\u001b[K     |█████████████████████████▏      | 901kB 18.7MB/s eta 0:00:01\r\u001b[K     |█████████████████████████▍      | 911kB 18.7MB/s eta 0:00:01\r\u001b[K     |█████████████████████████▊      | 921kB 18.7MB/s eta 0:00:01\r\u001b[K     |██████████████████████████      | 931kB 18.7MB/s eta 0:00:01\r\u001b[K     |██████████████████████████▎     | 942kB 18.7MB/s eta 0:00:01\r\u001b[K     |██████████████████████████▌     | 952kB 18.7MB/s eta 0:00:01\r\u001b[K     |██████████████████████████▉     | 962kB 18.7MB/s eta 0:00:01\r\u001b[K     |███████████████████████████▏    | 972kB 18.7MB/s eta 0:00:01\r\u001b[K     |███████████████████████████▍    | 983kB 18.7MB/s eta 0:00:01\r\u001b[K     |███████████████████████████▊    | 993kB 18.7MB/s eta 0:00:01\r\u001b[K     |████████████████████████████    | 1.0MB 18.7MB/s eta 0:00:01\r\u001b[K     |████████████████████████████▎   | 1.0MB 18.7MB/s eta 0:00:01\r\u001b[K     |████████████████████████████▌   | 1.0MB 18.7MB/s eta 0:00:01\r\u001b[K     |████████████████████████████▉   | 1.0MB 18.7MB/s eta 0:00:01\r\u001b[K     |█████████████████████████████   | 1.0MB 18.7MB/s eta 0:00:01\r\u001b[K     |█████████████████████████████▍  | 1.1MB 18.7MB/s eta 0:00:01\r\u001b[K     |█████████████████████████████▊  | 1.1MB 18.7MB/s eta 0:00:01\r\u001b[K     |██████████████████████████████  | 1.1MB 18.7MB/s eta 0:00:01\r\u001b[K     |██████████████████████████████▎ | 1.1MB 18.7MB/s eta 0:00:01\r\u001b[K     |██████████████████████████████▌ | 1.1MB 18.7MB/s eta 0:00:01\r\u001b[K     |██████████████████████████████▉ | 1.1MB 18.7MB/s eta 0:00:01\r\u001b[K     |███████████████████████████████ | 1.1MB 18.7MB/s eta 0:00:01\r\u001b[K     |███████████████████████████████▍| 1.1MB 18.7MB/s eta 0:00:01\r\u001b[K     |███████████████████████████████▊| 1.1MB 18.7MB/s eta 0:00:01\r\u001b[K     |████████████████████████████████| 1.1MB 18.7MB/s eta 0:00:01\r\u001b[K     |████████████████████████████████| 1.2MB 18.7MB/s \n",
            "\u001b[?25hRequirement already satisfied: scikit-learn>=0.18 in /usr/local/lib/python3.7/dist-packages (from pynndescent) (0.22.2.post1)\n",
            "Requirement already satisfied: scipy>=1.0 in /usr/local/lib/python3.7/dist-packages (from pynndescent) (1.4.1)\n",
            "Requirement already satisfied: numba>=0.51.2 in /usr/local/lib/python3.7/dist-packages (from pynndescent) (0.51.2)\n",
            "Requirement already satisfied: llvmlite>=0.30 in /usr/local/lib/python3.7/dist-packages (from pynndescent) (0.34.0)\n",
            "Requirement already satisfied: joblib>=0.11 in /usr/local/lib/python3.7/dist-packages (from pynndescent) (1.0.1)\n",
            "Requirement already satisfied: numpy>=1.11.0 in /usr/local/lib/python3.7/dist-packages (from scikit-learn>=0.18->pynndescent) (1.19.5)\n",
            "Requirement already satisfied: setuptools in /usr/local/lib/python3.7/dist-packages (from numba>=0.51.2->pynndescent) (56.0.0)\n",
            "Building wheels for collected packages: pynndescent\n",
            "  Building wheel for pynndescent (setup.py) ... \u001b[?25l\u001b[?25hdone\n",
            "  Created wheel for pynndescent: filename=pynndescent-0.5.2-cp37-none-any.whl size=51351 sha256=e8b05e806c7d084a6c4383a3e60ad465d43ecfa9993909379044a7149211630f\n",
            "  Stored in directory: /root/.cache/pip/wheels/ba/52/4e/4c28d04d144a28f89e2575fb63628df6e6d49b56c5ddd0c74e\n",
            "Successfully built pynndescent\n",
            "Installing collected packages: pynndescent\n",
            "Successfully installed pynndescent-0.5.2\n"
          ],
          "name": "stdout"
        }
      ]
    },
    {
      "cell_type": "code",
      "metadata": {
        "id": "V_NwODlZJZGv"
      },
      "source": [
        "from tensorflow.keras.datasets import mnist"
      ],
      "execution_count": 5,
      "outputs": []
    },
    {
      "cell_type": "code",
      "metadata": {
        "colab": {
          "base_uri": "https://localhost:8080/"
        },
        "id": "BrtJTghmJZJp",
        "outputId": "dc4918f9-a7c0-4ea9-ab83-0d880988940d"
      },
      "source": [
        "# load dataset\n",
        "(train_images, train_labels), (test_images, test_labels) = mnist.load_data()\n",
        "X = train_images.reshape((60000, 28, 28, 1))\n",
        "X.shape"
      ],
      "execution_count": 6,
      "outputs": [
        {
          "output_type": "stream",
          "text": [
            "Downloading data from https://storage.googleapis.com/tensorflow/tf-keras-datasets/mnist.npz\n",
            "11493376/11490434 [==============================] - 0s 0us/step\n"
          ],
          "name": "stdout"
        },
        {
          "output_type": "execute_result",
          "data": {
            "text/plain": [
              "(60000, 28, 28, 1)"
            ]
          },
          "metadata": {
            "tags": []
          },
          "execution_count": 6
        }
      ]
    },
    {
      "cell_type": "code",
      "metadata": {
        "id": "HuMDWibuJZfW"
      },
      "source": [
        "from pynndescent import NNDescent\n",
        "import numpy as np"
      ],
      "execution_count": 7,
      "outputs": []
    },
    {
      "cell_type": "code",
      "metadata": {
        "colab": {
          "base_uri": "https://localhost:8080/"
        },
        "id": "QrpCSXj8JZij",
        "outputId": "5a8fb334-2469-40b5-93fa-27e47b6f02c3"
      },
      "source": [
        "# number of trees in random projection forest\n",
        "n_trees = 5 + int(round((X.shape[0]) ** 0.5 / 20.0))\n",
        "# max number of nearest neighbor iters to perform\n",
        "n_iters = max(5, int(round(np.log2(X.shape[0]))))\n",
        "# distance metric\n",
        "metric=\"euclidean\"\n",
        "# number of neighbors for computing k-neighbor graph\n",
        "n_neighbors = 10\n",
        "\n",
        "# get nearest neighbors\n",
        "nnd = NNDescent(\n",
        "    X.reshape((len(X), np.product(np.shape(X)[1:]))),\n",
        "    n_neighbors=n_neighbors,\n",
        "    metric=metric,\n",
        "    n_trees=n_trees,\n",
        "    n_iters=n_iters,\n",
        "    max_candidates=60,\n",
        "    verbose=True\n",
        ")\n",
        "# get indices and distances\n",
        "knn_indices, knn_dists = nnd.neighbor_graph"
      ],
      "execution_count": 8,
      "outputs": [
        {
          "output_type": "stream",
          "text": [
            "Thu May  6 00:51:04 2021 Building RP forest with 17 trees\n",
            "Thu May  6 00:51:11 2021 NN descent for 16 iterations\n",
            "\t 1  /  16\n",
            "\t 2  /  16\n",
            "\t 3  /  16\n",
            "\t 4  /  16\n",
            "\t 5  /  16\n",
            "\tStopping threshold met -- exiting after 5 iterations\n"
          ],
          "name": "stdout"
        }
      ]
    },
    {
      "cell_type": "code",
      "metadata": {
        "id": "sHu06GrwJZoR"
      },
      "source": [
        "from sklearn.utils import check_random_state\n",
        "from umap.umap_ import fuzzy_simplicial_set"
      ],
      "execution_count": 11,
      "outputs": []
    },
    {
      "cell_type": "code",
      "metadata": {
        "id": "sRDPI34KJZrW"
      },
      "source": [
        "# get indices and distances\n",
        "knn_indices, knn_dists = nnd.neighbor_graph\n",
        "random_state = check_random_state(None)"
      ],
      "execution_count": 12,
      "outputs": []
    },
    {
      "cell_type": "code",
      "metadata": {
        "id": "NfVYb2DIJZue"
      },
      "source": [
        "# build fuzzy_simplicial_set\n",
        "umap_graph, sigmas, rhos = fuzzy_simplicial_set(\n",
        "    X = X,\n",
        "    n_neighbors = n_neighbors,\n",
        "    metric = metric,\n",
        "    random_state = random_state,\n",
        "    knn_indices= knn_indices,\n",
        "    knn_dists = knn_dists,\n",
        ")"
      ],
      "execution_count": 13,
      "outputs": []
    },
    {
      "cell_type": "code",
      "metadata": {
        "colab": {
          "base_uri": "https://localhost:8080/"
        },
        "id": "BwIj5-kmJZxy",
        "outputId": "9c7bc84f-4b25-4022-df10-0da837329a92"
      },
      "source": [
        "umap_graph.shape"
      ],
      "execution_count": 14,
      "outputs": [
        {
          "output_type": "execute_result",
          "data": {
            "text/plain": [
              "(60000, 60000)"
            ]
          },
          "metadata": {
            "tags": []
          },
          "execution_count": 14
        }
      ]
    },
    {
      "cell_type": "markdown",
      "metadata": {
        "id": "d2H27dLbNsvN"
      },
      "source": [
        "# Part 2: Embedding the graph"
      ]
    },
    {
      "cell_type": "code",
      "metadata": {
        "id": "xrtdIxh8JZ0z"
      },
      "source": [
        "import torch\n",
        "from torch import nn, optim"
      ],
      "execution_count": 20,
      "outputs": []
    },
    {
      "cell_type": "code",
      "metadata": {
        "colab": {
          "base_uri": "https://localhost:8080/",
          "height": 35
        },
        "id": "f4_L8QYpJZ4R",
        "outputId": "e47b0d6d-707b-446e-c5cc-e48ed22526fb"
      },
      "source": [
        "torch.__version__"
      ],
      "execution_count": 17,
      "outputs": [
        {
          "output_type": "execute_result",
          "data": {
            "application/vnd.google.colaboratory.intrinsic+json": {
              "type": "string"
            },
            "text/plain": [
              "'1.8.1+cu101'"
            ]
          },
          "metadata": {
            "tags": []
          },
          "execution_count": 17
        }
      ]
    },
    {
      "cell_type": "code",
      "metadata": {
        "id": "QB6Lg2htJZ6V"
      },
      "source": [
        "n_compnents = 2\n",
        "\n",
        "class En(nn.Module):\n",
        "    def __init__(self):\n",
        "        super(En, self).__init__()\n",
        "        self.encoder = nn.Sequential(\n",
        "            nn.Conv2d(1,64,3,2,padding_mode=\"zeros\"),\n",
        "            nn.ReLU(),\n",
        "            nn.Conv2d(64,128,3,2,padding_mode='zeros'),\n",
        "            nn.ReLU(),\n",
        "            nn.Flatten(),\n",
        "            nn.Linear(6272,512),\n",
        "            nn.ReLU(),\n",
        "            nn.Linear(512,n_compnents)\n",
        "        )\n",
        " \n",
        "    def forward(self, x):\n",
        "        batchsz = x.size(0)\n",
        "        # encode\n",
        "        x = self.encoder(x)\n",
        "        return x"
      ],
      "execution_count": 23,
      "outputs": []
    },
    {
      "cell_type": "code",
      "metadata": {
        "id": "2x4eJEdrJZ9g"
      },
      "source": [
        "from umap.parametric_umap import construct_edge_dataset\n",
        "n_epochs = 200 \n",
        "\n",
        "batch_size = 1000 # iterate over batches of 1000 edges"
      ],
      "execution_count": 25,
      "outputs": []
    },
    {
      "cell_type": "code",
      "metadata": {
        "id": "INYSQcF5JaAx"
      },
      "source": [
        "# get tensorflow dataset of edges \n",
        "(\n",
        "    edge_dataset,\n",
        "    batch_size,\n",
        "    n_edges,\n",
        "    head,\n",
        "    tail,\n",
        "    edge_weight,\n",
        ") = construct_edge_dataset(\n",
        "    X,\n",
        "    umap_graph,\n",
        "    n_epochs,\n",
        "    batch_size,\n",
        "    parametric_embedding = True,\n",
        "    parametric_reconstruction = False,\n",
        ")"
      ],
      "execution_count": 26,
      "outputs": []
    },
    {
      "cell_type": "code",
      "metadata": {
        "colab": {
          "base_uri": "https://localhost:8080/"
        },
        "id": "eK1uj_kxSTZj",
        "outputId": "cbc73ce2-b3e7-4b0a-c6ae-6479de8fed2a"
      },
      "source": [
        "(sample_edge_to_x, sample_edge_from_x), _ =  next(iter(edge_dataset))\n",
        "sample_edge_to_x.shape"
      ],
      "execution_count": 27,
      "outputs": [
        {
          "output_type": "execute_result",
          "data": {
            "text/plain": [
              "TensorShape([1000, 28, 28, 1])"
            ]
          },
          "metadata": {
            "tags": []
          },
          "execution_count": 27
        }
      ]
    },
    {
      "cell_type": "code",
      "metadata": {
        "colab": {
          "base_uri": "https://localhost:8080/",
          "height": 215
        },
        "id": "KK9Hz29jSTxN",
        "outputId": "ca4e5fd8-c64a-4181-f1e7-3a5518c4b40d"
      },
      "source": [
        "from umap.parametric_umap import umap_loss\n",
        "from umap.umap_ import find_ab_params\n",
        "min_dist = 0.1\n",
        "_a, _b = find_ab_params(1.0, min_dist)\n",
        "negative_sample_rate = 5\n",
        "embedding_to = En.predict(sample_edge_to_x)\n",
        "embedding_from = En.predict(sample_edge_from_x)"
      ],
      "execution_count": 29,
      "outputs": [
        {
          "output_type": "error",
          "ename": "AttributeError",
          "evalue": "ignored",
          "traceback": [
            "\u001b[0;31m---------------------------------------------------------------------------\u001b[0m",
            "\u001b[0;31mAttributeError\u001b[0m                            Traceback (most recent call last)",
            "\u001b[0;32m<ipython-input-29-913da453b35b>\u001b[0m in \u001b[0;36m<module>\u001b[0;34m()\u001b[0m\n\u001b[1;32m      4\u001b[0m \u001b[0m_a\u001b[0m\u001b[0;34m,\u001b[0m \u001b[0m_b\u001b[0m \u001b[0;34m=\u001b[0m \u001b[0mfind_ab_params\u001b[0m\u001b[0;34m(\u001b[0m\u001b[0;36m1.0\u001b[0m\u001b[0;34m,\u001b[0m \u001b[0mmin_dist\u001b[0m\u001b[0;34m)\u001b[0m\u001b[0;34m\u001b[0m\u001b[0;34m\u001b[0m\u001b[0m\n\u001b[1;32m      5\u001b[0m \u001b[0mnegative_sample_rate\u001b[0m \u001b[0;34m=\u001b[0m \u001b[0;36m5\u001b[0m\u001b[0;34m\u001b[0m\u001b[0;34m\u001b[0m\u001b[0m\n\u001b[0;32m----> 6\u001b[0;31m \u001b[0membedding_to\u001b[0m \u001b[0;34m=\u001b[0m \u001b[0mEn\u001b[0m\u001b[0;34m.\u001b[0m\u001b[0mpredict\u001b[0m\u001b[0;34m(\u001b[0m\u001b[0msample_edge_to_x\u001b[0m\u001b[0;34m)\u001b[0m\u001b[0;34m\u001b[0m\u001b[0;34m\u001b[0m\u001b[0m\n\u001b[0m\u001b[1;32m      7\u001b[0m \u001b[0membedding_from\u001b[0m \u001b[0;34m=\u001b[0m \u001b[0mEn\u001b[0m\u001b[0;34m.\u001b[0m\u001b[0mpredict\u001b[0m\u001b[0;34m(\u001b[0m\u001b[0msample_edge_from_x\u001b[0m\u001b[0;34m)\u001b[0m\u001b[0;34m\u001b[0m\u001b[0;34m\u001b[0m\u001b[0m\n",
            "\u001b[0;31mAttributeError\u001b[0m: type object 'En' has no attribute 'predict'"
          ]
        }
      ]
    },
    {
      "cell_type": "code",
      "metadata": {
        "id": "kdLBQ0q1ST11"
      },
      "source": [
        ""
      ],
      "execution_count": null,
      "outputs": []
    },
    {
      "cell_type": "code",
      "metadata": {
        "id": "9TZEzasAcl5O"
      },
      "source": [
        ""
      ],
      "execution_count": null,
      "outputs": []
    }
  ]
}